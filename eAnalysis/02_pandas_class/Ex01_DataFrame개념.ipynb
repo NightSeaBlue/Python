{
 "cells": [
  {
   "cell_type": "markdown",
   "metadata": {},
   "source": [
    "## 판다스 (Pandas)\n",
    "\n",
    "- 핵심객체는 DataFrame이다\n",
    "- 데이타프레임은 2차원 데이터 구조체로 넘파이보다 편리하게 데이타 핸들링한다.\n",
    "- R 언어의 데이타 프레임과 비슷하고 많이 사용된다\n",
    "\n",
    "\n",
    "#### DataFrame 에서 데이타 필터링 ( 추출하기 )\n",
    "\n",
    "0. 맨처음에는\n",
    "\n",
    "    + df[2] : 2행의 데이타 추출\n",
    "    + df['A'] : A열(컬럼) 데이타 추출\n",
    "    \n",
    "    + df[n:m] : n번째부터 m-1번째까지의 행 추출\n",
    "        \n",
    "        ` 행과 열을 섞어서 추출함.\n",
    "        \n",
    "        ` 판다스를 만든 사람이 쓴 책의 번역서를 보면 이 부분을 후회한다고 나옴\n",
    "        \n",
    "        ` df[2] 이 형식은 에러 발생 ( 2021.01)\n",
    "      \n",
    "\n",
    "1. 열(컬럼) 추출\n",
    "\n",
    "    + df.컬럼명\n",
    "    + df['컬럼명']\n",
    "       \n",
    "    \n",
    "2. 행 추출\n",
    "\n",
    "    + df.loc[] : 인덱스 지정하지 않으면 인덱스(순서), 인덱스 지정하면 인덱스로 추출\n",
    "    + df.iloc[] : 인덱스(순서)로 추출\n",
    "\n",
    "\n",
    "    [참고] \n",
    "    \n",
    "    - 위 연산자는 노련한 개발자들도 혼동하기에, 일반적으로 하나만 선택해서 사용하는 것을 권장한단다\n",
    "    - 넘파이와 유사한 부분으로 더우 혼동하기 쉽다\n",
    "    - 판다스의 DataFrame와 Series에서도 다른이 있어서 주의해야 한다\n",
    "    \n",
    "    \n",
    "3. 행과 열에서 추출\n",
    "    \n",
    "    + df.loc[2, 3] : 2 행의 3열 데이타\n",
    "    + df.loc[1:3, 2:4] : 1부터 3행전까지의 행에서 2부터 4전까지의 열의 데이타"
   ]
  },
  {
   "cell_type": "code",
   "execution_count": 1,
   "metadata": {
    "scrolled": true
   },
   "outputs": [
    {
     "data": {
      "text/html": [
       "<div>\n",
       "<style scoped>\n",
       "    .dataframe tbody tr th:only-of-type {\n",
       "        vertical-align: middle;\n",
       "    }\n",
       "\n",
       "    .dataframe tbody tr th {\n",
       "        vertical-align: top;\n",
       "    }\n",
       "\n",
       "    .dataframe thead th {\n",
       "        text-align: right;\n",
       "    }\n",
       "</style>\n",
       "<table border=\"1\" class=\"dataframe\">\n",
       "  <thead>\n",
       "    <tr style=\"text-align: right;\">\n",
       "      <th></th>\n",
       "      <th>name</th>\n",
       "      <th>age</th>\n",
       "      <th>dept</th>\n",
       "    </tr>\n",
       "  </thead>\n",
       "  <tbody>\n",
       "    <tr>\n",
       "      <th>0</th>\n",
       "      <td>홍길동</td>\n",
       "      <td>22</td>\n",
       "      <td>컴공</td>\n",
       "    </tr>\n",
       "    <tr>\n",
       "      <th>1</th>\n",
       "      <td>박길동</td>\n",
       "      <td>33</td>\n",
       "      <td>국어</td>\n",
       "    </tr>\n",
       "    <tr>\n",
       "      <th>2</th>\n",
       "      <td>김길동</td>\n",
       "      <td>44</td>\n",
       "      <td>산업</td>\n",
       "    </tr>\n",
       "  </tbody>\n",
       "</table>\n",
       "</div>"
      ],
      "text/plain": [
       "  name  age dept\n",
       "0  홍길동   22   컴공\n",
       "1  박길동   33   국어\n",
       "2  김길동   44   산업"
      ]
     },
     "execution_count": 1,
     "metadata": {},
     "output_type": "execute_result"
    }
   ],
   "source": [
    "import pandas as pd\n",
    "\n",
    "# 데이타 프레임 자료 생성\n",
    "mydata = {\n",
    "          'name':['홍길동','박길동','김길동'], \n",
    "          'age':[22,33,44], \n",
    "          'dept':['컴공','국어','산업']\n",
    "         }\n",
    "\n",
    "df = pd.DataFrame(mydata)\n",
    "df\n"
   ]
  },
  {
   "cell_type": "code",
   "execution_count": 2,
   "metadata": {},
   "outputs": [
    {
     "data": {
      "text/plain": [
       "0    홍길동\n",
       "1    박길동\n",
       "2    김길동\n",
       "Name: name, dtype: object"
      ]
     },
     "execution_count": 2,
     "metadata": {},
     "output_type": "execute_result"
    }
   ],
   "source": [
    "#1번 방법 > name 추출해봐라 (name 열을 추출하라는 의미)\n",
    "df.name"
   ]
  },
  {
   "cell_type": "code",
   "execution_count": 3,
   "metadata": {
    "scrolled": true
   },
   "outputs": [
    {
     "data": {
      "text/plain": [
       "0    홍길동\n",
       "1    박길동\n",
       "2    김길동\n",
       "Name: name, dtype: object"
      ]
     },
     "execution_count": 3,
     "metadata": {},
     "output_type": "execute_result"
    }
   ],
   "source": [
    "#2번 방법 > name 추출해봐라 (name 열을 추출하라는 의미) - 나는 이방법을 선호\n",
    "df['name']"
   ]
  },
  {
   "cell_type": "code",
   "execution_count": null,
   "metadata": {},
   "outputs": [],
   "source": []
  },
  {
   "cell_type": "code",
   "execution_count": null,
   "metadata": {},
   "outputs": [],
   "source": []
  },
  {
   "cell_type": "code",
   "execution_count": null,
   "metadata": {},
   "outputs": [],
   "source": []
  },
  {
   "cell_type": "code",
   "execution_count": null,
   "metadata": {},
   "outputs": [],
   "source": []
  },
  {
   "cell_type": "code",
   "execution_count": 4,
   "metadata": {
    "scrolled": true
   },
   "outputs": [
    {
     "data": {
      "text/plain": [
       "name    홍길동\n",
       "age      22\n",
       "dept     컴공\n",
       "Name: 0, dtype: object"
      ]
     },
     "execution_count": 4,
     "metadata": {},
     "output_type": "execute_result"
    }
   ],
   "source": [
    "#1번 방법 > 맨 처음행 추출해봐라 - loc을 사용 인덱스까지 확인한다 인덱스 값으 다른값으로 임의로 바뀌면 그값을 써줘야함\n",
    "df.loc[0]"
   ]
  },
  {
   "cell_type": "code",
   "execution_count": 5,
   "metadata": {},
   "outputs": [
    {
     "data": {
      "text/plain": [
       "name    홍길동\n",
       "age      22\n",
       "dept     컴공\n",
       "Name: 0, dtype: object"
      ]
     },
     "execution_count": 5,
     "metadata": {},
     "output_type": "execute_result"
    }
   ],
   "source": [
    "#2번 방법 > 맨처음행 추출을 iloc으로 > 무저건 인덱스 숫자로만 인식한다 (이방법선호하자)\n",
    "df.iloc[0]"
   ]
  },
  {
   "cell_type": "code",
   "execution_count": 6,
   "metadata": {},
   "outputs": [
    {
     "data": {
      "text/html": [
       "<div>\n",
       "<style scoped>\n",
       "    .dataframe tbody tr th:only-of-type {\n",
       "        vertical-align: middle;\n",
       "    }\n",
       "\n",
       "    .dataframe tbody tr th {\n",
       "        vertical-align: top;\n",
       "    }\n",
       "\n",
       "    .dataframe thead th {\n",
       "        text-align: right;\n",
       "    }\n",
       "</style>\n",
       "<table border=\"1\" class=\"dataframe\">\n",
       "  <thead>\n",
       "    <tr style=\"text-align: right;\">\n",
       "      <th></th>\n",
       "      <th>name</th>\n",
       "      <th>age</th>\n",
       "      <th>dept</th>\n",
       "    </tr>\n",
       "  </thead>\n",
       "  <tbody>\n",
       "    <tr>\n",
       "      <th>일</th>\n",
       "      <td>홍길동</td>\n",
       "      <td>22</td>\n",
       "      <td>컴공</td>\n",
       "    </tr>\n",
       "    <tr>\n",
       "      <th>이</th>\n",
       "      <td>박길동</td>\n",
       "      <td>33</td>\n",
       "      <td>국어</td>\n",
       "    </tr>\n",
       "    <tr>\n",
       "      <th>삼</th>\n",
       "      <td>김길동</td>\n",
       "      <td>44</td>\n",
       "      <td>산업</td>\n",
       "    </tr>\n",
       "  </tbody>\n",
       "</table>\n",
       "</div>"
      ],
      "text/plain": [
       "  name  age dept\n",
       "일  홍길동   22   컴공\n",
       "이  박길동   33   국어\n",
       "삼  김길동   44   산업"
      ]
     },
     "execution_count": 6,
     "metadata": {},
     "output_type": "execute_result"
    }
   ],
   "source": [
    "#loc 과 iloc 차이첨을 위해 index에 임의의 값을 넣어줌\n",
    "df2 = pd.DataFrame(mydata, index=['일','이','삼'])\n",
    "df2"
   ]
  },
  {
   "cell_type": "code",
   "execution_count": 7,
   "metadata": {
    "scrolled": false
   },
   "outputs": [
    {
     "data": {
      "text/plain": [
       "name    홍길동\n",
       "age      22\n",
       "dept     컴공\n",
       "Name: 일, dtype: object"
      ]
     },
     "execution_count": 7,
     "metadata": {},
     "output_type": "execute_result"
    }
   ],
   "source": [
    "#loc은 무저건 인덱스의 모양으로 확인이가능함 기호면 기호 숫자면숫자 바뀐인덱스 한글을 넣어줘야함\n",
    "df2.loc[\"일\"]"
   ]
  },
  {
   "cell_type": "code",
   "execution_count": 35,
   "metadata": {
    "scrolled": false
   },
   "outputs": [
    {
     "data": {
      "text/plain": [
       "name    홍길동\n",
       "age      22\n",
       "dept     컴공\n",
       "Name: 일, dtype: object"
      ]
     },
     "execution_count": 35,
     "metadata": {},
     "output_type": "execute_result"
    }
   ],
   "source": [
    "#하지만 iloc은 무저건 숫자 기본디폴트 인덱스만 사용하면됌 난 iloc을 사용하겠다\n",
    "df2.iloc[0]"
   ]
  },
  {
   "cell_type": "code",
   "execution_count": null,
   "metadata": {},
   "outputs": [],
   "source": []
  },
  {
   "cell_type": "code",
   "execution_count": null,
   "metadata": {},
   "outputs": [],
   "source": []
  },
  {
   "cell_type": "code",
   "execution_count": null,
   "metadata": {},
   "outputs": [],
   "source": []
  },
  {
   "cell_type": "code",
   "execution_count": null,
   "metadata": {},
   "outputs": [],
   "source": []
  },
  {
   "cell_type": "markdown",
   "metadata": {},
   "source": [
    "### 컬럼 추가, 행 추가"
   ]
  },
  {
   "cell_type": "code",
   "execution_count": 36,
   "metadata": {},
   "outputs": [
    {
     "data": {
      "text/html": [
       "<div>\n",
       "<style scoped>\n",
       "    .dataframe tbody tr th:only-of-type {\n",
       "        vertical-align: middle;\n",
       "    }\n",
       "\n",
       "    .dataframe tbody tr th {\n",
       "        vertical-align: top;\n",
       "    }\n",
       "\n",
       "    .dataframe thead th {\n",
       "        text-align: right;\n",
       "    }\n",
       "</style>\n",
       "<table border=\"1\" class=\"dataframe\">\n",
       "  <thead>\n",
       "    <tr style=\"text-align: right;\">\n",
       "      <th></th>\n",
       "      <th>name</th>\n",
       "      <th>age</th>\n",
       "      <th>dept</th>\n",
       "      <th>gender</th>\n",
       "      <th>age+10</th>\n",
       "    </tr>\n",
       "  </thead>\n",
       "  <tbody>\n",
       "    <tr>\n",
       "      <th>0</th>\n",
       "      <td>홍길동</td>\n",
       "      <td>22</td>\n",
       "      <td>컴공</td>\n",
       "      <td>여자</td>\n",
       "      <td>32</td>\n",
       "    </tr>\n",
       "    <tr>\n",
       "      <th>1</th>\n",
       "      <td>맹길동</td>\n",
       "      <td>33</td>\n",
       "      <td>국어</td>\n",
       "      <td>남자</td>\n",
       "      <td>43</td>\n",
       "    </tr>\n",
       "    <tr>\n",
       "      <th>2</th>\n",
       "      <td>김길동</td>\n",
       "      <td>44</td>\n",
       "      <td>산업</td>\n",
       "      <td>트젠</td>\n",
       "      <td>54</td>\n",
       "    </tr>\n",
       "    <tr>\n",
       "      <th>3</th>\n",
       "      <td>맹길동</td>\n",
       "      <td>55</td>\n",
       "      <td>인문2</td>\n",
       "      <td>여자</td>\n",
       "      <td>65</td>\n",
       "    </tr>\n",
       "  </tbody>\n",
       "</table>\n",
       "</div>"
      ],
      "text/plain": [
       "  name  age dept gender  age+10\n",
       "0  홍길동   22   컴공     여자      32\n",
       "1  맹길동   33   국어     남자      43\n",
       "2  김길동   44   산업     트젠      54\n",
       "3  맹길동   55  인문2     여자      65"
      ]
     },
     "execution_count": 36,
     "metadata": {},
     "output_type": "execute_result"
    }
   ],
   "source": [
    "# 새로운 컬럼(열) 추가하는법\n",
    "df['gender'] = ['여자','남자','트젠']\n",
    "df"
   ]
  },
  {
   "cell_type": "code",
   "execution_count": 41,
   "metadata": {},
   "outputs": [
    {
     "data": {
      "text/html": [
       "<div>\n",
       "<style scoped>\n",
       "    .dataframe tbody tr th:only-of-type {\n",
       "        vertical-align: middle;\n",
       "    }\n",
       "\n",
       "    .dataframe tbody tr th {\n",
       "        vertical-align: top;\n",
       "    }\n",
       "\n",
       "    .dataframe thead th {\n",
       "        text-align: right;\n",
       "    }\n",
       "</style>\n",
       "<table border=\"1\" class=\"dataframe\">\n",
       "  <thead>\n",
       "    <tr style=\"text-align: right;\">\n",
       "      <th></th>\n",
       "      <th>name</th>\n",
       "      <th>age</th>\n",
       "      <th>dept</th>\n",
       "      <th>gender</th>\n",
       "      <th>age+10</th>\n",
       "    </tr>\n",
       "  </thead>\n",
       "  <tbody>\n",
       "    <tr>\n",
       "      <th>0</th>\n",
       "      <td>홍길동</td>\n",
       "      <td>22</td>\n",
       "      <td>컴공</td>\n",
       "      <td>여자</td>\n",
       "      <td>32</td>\n",
       "    </tr>\n",
       "    <tr>\n",
       "      <th>1</th>\n",
       "      <td>맹길동</td>\n",
       "      <td>33</td>\n",
       "      <td>국어</td>\n",
       "      <td>남자</td>\n",
       "      <td>43</td>\n",
       "    </tr>\n",
       "    <tr>\n",
       "      <th>2</th>\n",
       "      <td>김길동</td>\n",
       "      <td>44</td>\n",
       "      <td>산업</td>\n",
       "      <td>트젠</td>\n",
       "      <td>54</td>\n",
       "    </tr>\n",
       "    <tr>\n",
       "      <th>3</th>\n",
       "      <td>맹길동</td>\n",
       "      <td>55</td>\n",
       "      <td>인문2</td>\n",
       "      <td>여자</td>\n",
       "      <td>65</td>\n",
       "    </tr>\n",
       "  </tbody>\n",
       "</table>\n",
       "</div>"
      ],
      "text/plain": [
       "  name  age dept gender  age+10\n",
       "0  홍길동   22   컴공     여자      32\n",
       "1  맹길동   33   국어     남자      43\n",
       "2  김길동   44   산업     트젠      54\n",
       "3  맹길동   55  인문2     여자      65"
      ]
     },
     "execution_count": 41,
     "metadata": {},
     "output_type": "execute_result"
    }
   ],
   "source": [
    "# 새로운 값(행) 추가\n",
    "df.loc[3] = ['맹길동',55,'컴공','여자']\n",
    "df"
   ]
  },
  {
   "cell_type": "code",
   "execution_count": 11,
   "metadata": {
    "scrolled": true
   },
   "outputs": [],
   "source": [
    "# 행 추가\n"
   ]
  },
  {
   "cell_type": "markdown",
   "metadata": {},
   "source": [
    "### 변경"
   ]
  },
  {
   "cell_type": "code",
   "execution_count": 12,
   "metadata": {},
   "outputs": [],
   "source": [
    "# 인덱스순서를 변경하려면 -> 인덱스는 우선 DataFrame이 있는 상태에서 변경해야 한다\n"
   ]
  },
  {
   "cell_type": "code",
   "execution_count": 13,
   "metadata": {},
   "outputs": [
    {
     "data": {
      "text/html": [
       "<div>\n",
       "<style scoped>\n",
       "    .dataframe tbody tr th:only-of-type {\n",
       "        vertical-align: middle;\n",
       "    }\n",
       "\n",
       "    .dataframe tbody tr th {\n",
       "        vertical-align: top;\n",
       "    }\n",
       "\n",
       "    .dataframe thead th {\n",
       "        text-align: right;\n",
       "    }\n",
       "</style>\n",
       "<table border=\"1\" class=\"dataframe\">\n",
       "  <thead>\n",
       "    <tr style=\"text-align: right;\">\n",
       "      <th></th>\n",
       "      <th>name</th>\n",
       "      <th>age</th>\n",
       "      <th>dept</th>\n",
       "      <th>gender</th>\n",
       "      <th>age+10</th>\n",
       "    </tr>\n",
       "  </thead>\n",
       "  <tbody>\n",
       "    <tr>\n",
       "      <th>0</th>\n",
       "      <td>홍길동</td>\n",
       "      <td>22</td>\n",
       "      <td>컴공</td>\n",
       "      <td>여자</td>\n",
       "      <td>32</td>\n",
       "    </tr>\n",
       "    <tr>\n",
       "      <th>1</th>\n",
       "      <td>박길동</td>\n",
       "      <td>33</td>\n",
       "      <td>국어</td>\n",
       "      <td>남자</td>\n",
       "      <td>43</td>\n",
       "    </tr>\n",
       "    <tr>\n",
       "      <th>2</th>\n",
       "      <td>김길동</td>\n",
       "      <td>44</td>\n",
       "      <td>산업</td>\n",
       "      <td>트젠</td>\n",
       "      <td>54</td>\n",
       "    </tr>\n",
       "    <tr>\n",
       "      <th>3</th>\n",
       "      <td>맹길동</td>\n",
       "      <td>55</td>\n",
       "      <td>컴공</td>\n",
       "      <td>여자</td>\n",
       "      <td>65</td>\n",
       "    </tr>\n",
       "  </tbody>\n",
       "</table>\n",
       "</div>"
      ],
      "text/plain": [
       "  name  age dept gender  age+10\n",
       "0  홍길동   22   컴공     여자      32\n",
       "1  박길동   33   국어     남자      43\n",
       "2  김길동   44   산업     트젠      54\n",
       "3  맹길동   55   컴공     여자      65"
      ]
     },
     "execution_count": 13,
     "metadata": {},
     "output_type": "execute_result"
    }
   ],
   "source": [
    "# 컬럼연산  걍 보기만 하는거니까 계산최종 적용안됌 그래서 아래처럼\n",
    "    #age+10 라는 새로운 컬럼명이 생김\n",
    "df['age+10'] =  df['age']+ 10\n",
    "\n",
    "df"
   ]
  },
  {
   "cell_type": "code",
   "execution_count": 55,
   "metadata": {},
   "outputs": [
    {
     "data": {
      "text/plain": [
       "'컴공'"
      ]
     },
     "execution_count": 55,
     "metadata": {},
     "output_type": "execute_result"
    }
   ],
   "source": [
    "#컴공찾기\n",
    "#2~3지 방법\n",
    "\n",
    "df['dept'].loc[0]\n",
    "\n",
    "df.loc[0,'dept']\n",
    "\n",
    "#앞번호가 행 뒷번호가 열\n",
    "df.iloc[0,2]\n",
    "\n",
    "\n",
    "\n"
   ]
  },
  {
   "cell_type": "code",
   "execution_count": 57,
   "metadata": {},
   "outputs": [
    {
     "name": "stderr",
     "output_type": "stream",
     "text": [
      "C:\\Users\\kosmo\\AppData\\Local\\Temp\\ipykernel_52932\\1390623218.py:2: SettingWithCopyWarning: \n",
      "A value is trying to be set on a copy of a slice from a DataFrame\n",
      "\n",
      "See the caveats in the documentation: https://pandas.pydata.org/pandas-docs/stable/user_guide/indexing.html#returning-a-view-versus-a-copy\n",
      "  df['dept'].loc[3] = '인문쓰'\n"
     ]
    },
    {
     "data": {
      "text/html": [
       "<div>\n",
       "<style scoped>\n",
       "    .dataframe tbody tr th:only-of-type {\n",
       "        vertical-align: middle;\n",
       "    }\n",
       "\n",
       "    .dataframe tbody tr th {\n",
       "        vertical-align: top;\n",
       "    }\n",
       "\n",
       "    .dataframe thead th {\n",
       "        text-align: right;\n",
       "    }\n",
       "</style>\n",
       "<table border=\"1\" class=\"dataframe\">\n",
       "  <thead>\n",
       "    <tr style=\"text-align: right;\">\n",
       "      <th></th>\n",
       "      <th>name</th>\n",
       "      <th>age</th>\n",
       "      <th>dept</th>\n",
       "      <th>gender</th>\n",
       "      <th>age+10</th>\n",
       "    </tr>\n",
       "  </thead>\n",
       "  <tbody>\n",
       "    <tr>\n",
       "      <th>0</th>\n",
       "      <td>홍길동</td>\n",
       "      <td>22</td>\n",
       "      <td>컴공</td>\n",
       "      <td>여자</td>\n",
       "      <td>32</td>\n",
       "    </tr>\n",
       "    <tr>\n",
       "      <th>1</th>\n",
       "      <td>맹길동</td>\n",
       "      <td>33</td>\n",
       "      <td>국어</td>\n",
       "      <td>남자</td>\n",
       "      <td>43</td>\n",
       "    </tr>\n",
       "    <tr>\n",
       "      <th>2</th>\n",
       "      <td>김길동</td>\n",
       "      <td>44</td>\n",
       "      <td>산업</td>\n",
       "      <td>트젠</td>\n",
       "      <td>54</td>\n",
       "    </tr>\n",
       "    <tr>\n",
       "      <th>3</th>\n",
       "      <td>맹길동</td>\n",
       "      <td>55</td>\n",
       "      <td>인문쓰</td>\n",
       "      <td>여자</td>\n",
       "      <td>65</td>\n",
       "    </tr>\n",
       "  </tbody>\n",
       "</table>\n",
       "</div>"
      ],
      "text/plain": [
       "  name  age dept gender  age+10\n",
       "0  홍길동   22   컴공     여자      32\n",
       "1  맹길동   33   국어     남자      43\n",
       "2  김길동   44   산업     트젠      54\n",
       "3  맹길동   55  인문쓰     여자      65"
      ]
     },
     "execution_count": 57,
     "metadata": {},
     "output_type": "execute_result"
    }
   ],
   "source": [
    "# 3 행에 'dept'열의 값을 '인문'으로 변경\n",
    "df['dept'].loc[3] = '인문쓰'\n",
    "#df.loc[3,'dept'] = '인문2'\n",
    "df"
   ]
  },
  {
   "cell_type": "markdown",
   "metadata": {},
   "source": [
    "###  컬럼 속성 추출"
   ]
  },
  {
   "cell_type": "code",
   "execution_count": 16,
   "metadata": {},
   "outputs": [],
   "source": [
    "# 컬럼 속성 추출\n"
   ]
  },
  {
   "cell_type": "code",
   "execution_count": 17,
   "metadata": {},
   "outputs": [],
   "source": [
    "# 특정 컬럼의 특정행 추출 -> 즉 특정셀 추출 (2번 인덱스의 dept 컬럼값은? )\n"
   ]
  },
  {
   "cell_type": "code",
   "execution_count": 60,
   "metadata": {
    "scrolled": false
   },
   "outputs": [
    {
     "data": {
      "text/html": [
       "<div>\n",
       "<style scoped>\n",
       "    .dataframe tbody tr th:only-of-type {\n",
       "        vertical-align: middle;\n",
       "    }\n",
       "\n",
       "    .dataframe tbody tr th {\n",
       "        vertical-align: top;\n",
       "    }\n",
       "\n",
       "    .dataframe thead th {\n",
       "        text-align: right;\n",
       "    }\n",
       "</style>\n",
       "<table border=\"1\" class=\"dataframe\">\n",
       "  <thead>\n",
       "    <tr style=\"text-align: right;\">\n",
       "      <th></th>\n",
       "      <th>name</th>\n",
       "      <th>age</th>\n",
       "      <th>dept</th>\n",
       "      <th>gender</th>\n",
       "      <th>age+10</th>\n",
       "    </tr>\n",
       "  </thead>\n",
       "  <tbody>\n",
       "    <tr>\n",
       "      <th>1</th>\n",
       "      <td>맹길동</td>\n",
       "      <td>33</td>\n",
       "      <td>국어</td>\n",
       "      <td>남자</td>\n",
       "      <td>43</td>\n",
       "    </tr>\n",
       "    <tr>\n",
       "      <th>2</th>\n",
       "      <td>김길동</td>\n",
       "      <td>44</td>\n",
       "      <td>산업</td>\n",
       "      <td>트젠</td>\n",
       "      <td>54</td>\n",
       "    </tr>\n",
       "    <tr>\n",
       "      <th>3</th>\n",
       "      <td>맹길동</td>\n",
       "      <td>55</td>\n",
       "      <td>인문쓰</td>\n",
       "      <td>여자</td>\n",
       "      <td>65</td>\n",
       "    </tr>\n",
       "  </tbody>\n",
       "</table>\n",
       "</div>"
      ],
      "text/plain": [
       "  name  age dept gender  age+10\n",
       "1  맹길동   33   국어     남자      43\n",
       "2  김길동   44   산업     트젠      54\n",
       "3  맹길동   55  인문쓰     여자      65"
      ]
     },
     "execution_count": 60,
     "metadata": {},
     "output_type": "execute_result"
    }
   ],
   "source": [
    "# 30세 이상의 레코드 겁색\n",
    "df['age']\n",
    "df[df['age']>30]"
   ]
  },
  {
   "cell_type": "code",
   "execution_count": 62,
   "metadata": {
    "scrolled": true
   },
   "outputs": [
    {
     "name": "stderr",
     "output_type": "stream",
     "text": [
      "C:\\Users\\kosmo\\AppData\\Local\\Temp\\ipykernel_52932\\3244669105.py:2: SettingWithCopyWarning: \n",
      "A value is trying to be set on a copy of a slice from a DataFrame\n",
      "\n",
      "See the caveats in the documentation: https://pandas.pydata.org/pandas-docs/stable/user_guide/indexing.html#returning-a-view-versus-a-copy\n",
      "  df['name'].loc[2] = '맹길동'\n"
     ]
    },
    {
     "data": {
      "text/html": [
       "<div>\n",
       "<style scoped>\n",
       "    .dataframe tbody tr th:only-of-type {\n",
       "        vertical-align: middle;\n",
       "    }\n",
       "\n",
       "    .dataframe tbody tr th {\n",
       "        vertical-align: top;\n",
       "    }\n",
       "\n",
       "    .dataframe thead th {\n",
       "        text-align: right;\n",
       "    }\n",
       "</style>\n",
       "<table border=\"1\" class=\"dataframe\">\n",
       "  <thead>\n",
       "    <tr style=\"text-align: right;\">\n",
       "      <th></th>\n",
       "      <th>name</th>\n",
       "      <th>age</th>\n",
       "      <th>dept</th>\n",
       "      <th>gender</th>\n",
       "      <th>age+10</th>\n",
       "    </tr>\n",
       "  </thead>\n",
       "  <tbody>\n",
       "    <tr>\n",
       "      <th>0</th>\n",
       "      <td>맹길동</td>\n",
       "      <td>22</td>\n",
       "      <td>컴공</td>\n",
       "      <td>여자</td>\n",
       "      <td>32</td>\n",
       "    </tr>\n",
       "    <tr>\n",
       "      <th>1</th>\n",
       "      <td>맹길동</td>\n",
       "      <td>33</td>\n",
       "      <td>국어</td>\n",
       "      <td>남자</td>\n",
       "      <td>43</td>\n",
       "    </tr>\n",
       "    <tr>\n",
       "      <th>2</th>\n",
       "      <td>맹길동</td>\n",
       "      <td>44</td>\n",
       "      <td>산업</td>\n",
       "      <td>트젠</td>\n",
       "      <td>54</td>\n",
       "    </tr>\n",
       "    <tr>\n",
       "      <th>3</th>\n",
       "      <td>맹길동</td>\n",
       "      <td>55</td>\n",
       "      <td>인문쓰</td>\n",
       "      <td>여자</td>\n",
       "      <td>65</td>\n",
       "    </tr>\n",
       "  </tbody>\n",
       "</table>\n",
       "</div>"
      ],
      "text/plain": [
       "  name  age dept gender  age+10\n",
       "0  맹길동   22   컴공     여자      32\n",
       "1  맹길동   33   국어     남자      43\n",
       "2  맹길동   44   산업     트젠      54\n",
       "3  맹길동   55  인문쓰     여자      65"
      ]
     },
     "execution_count": 62,
     "metadata": {},
     "output_type": "execute_result"
    }
   ],
   "source": [
    "# 인덱스 1의 name 값을 '맹길동'로 변경하려면?\n",
    "#컬럼찾고 0번부터 인덱스 기준으로 추가해주면 됩니다\n",
    "df['name'].loc[2] = '맹길동'\n",
    "df"
   ]
  },
  {
   "cell_type": "markdown",
   "metadata": {},
   "source": [
    " ## 여러행 추출\n",
    " "
   ]
  },
  {
   "cell_type": "code",
   "execution_count": 63,
   "metadata": {},
   "outputs": [
    {
     "data": {
      "text/html": [
       "<div>\n",
       "<style scoped>\n",
       "    .dataframe tbody tr th:only-of-type {\n",
       "        vertical-align: middle;\n",
       "    }\n",
       "\n",
       "    .dataframe tbody tr th {\n",
       "        vertical-align: top;\n",
       "    }\n",
       "\n",
       "    .dataframe thead th {\n",
       "        text-align: right;\n",
       "    }\n",
       "</style>\n",
       "<table border=\"1\" class=\"dataframe\">\n",
       "  <thead>\n",
       "    <tr style=\"text-align: right;\">\n",
       "      <th></th>\n",
       "      <th>name</th>\n",
       "      <th>age</th>\n",
       "      <th>dept</th>\n",
       "      <th>gender</th>\n",
       "      <th>age+10</th>\n",
       "    </tr>\n",
       "  </thead>\n",
       "  <tbody>\n",
       "    <tr>\n",
       "      <th>1</th>\n",
       "      <td>맹길동</td>\n",
       "      <td>33</td>\n",
       "      <td>국어</td>\n",
       "      <td>남자</td>\n",
       "      <td>43</td>\n",
       "    </tr>\n",
       "    <tr>\n",
       "      <th>3</th>\n",
       "      <td>맹길동</td>\n",
       "      <td>55</td>\n",
       "      <td>인문쓰</td>\n",
       "      <td>여자</td>\n",
       "      <td>65</td>\n",
       "    </tr>\n",
       "  </tbody>\n",
       "</table>\n",
       "</div>"
      ],
      "text/plain": [
       "  name  age dept gender  age+10\n",
       "1  맹길동   33   국어     남자      43\n",
       "3  맹길동   55  인문쓰     여자      65"
      ]
     },
     "execution_count": 63,
     "metadata": {},
     "output_type": "execute_result"
    }
   ],
   "source": [
    "#여러행,열 추출은 [] [] 두개가 중요하다\n",
    "df.loc[[1,3]]"
   ]
  },
  {
   "cell_type": "markdown",
   "metadata": {},
   "source": [
    "## 여러 열 추출\n"
   ]
  },
  {
   "cell_type": "code",
   "execution_count": 21,
   "metadata": {},
   "outputs": [
    {
     "data": {
      "text/html": [
       "<div>\n",
       "<style scoped>\n",
       "    .dataframe tbody tr th:only-of-type {\n",
       "        vertical-align: middle;\n",
       "    }\n",
       "\n",
       "    .dataframe tbody tr th {\n",
       "        vertical-align: top;\n",
       "    }\n",
       "\n",
       "    .dataframe thead th {\n",
       "        text-align: right;\n",
       "    }\n",
       "</style>\n",
       "<table border=\"1\" class=\"dataframe\">\n",
       "  <thead>\n",
       "    <tr style=\"text-align: right;\">\n",
       "      <th></th>\n",
       "      <th>name</th>\n",
       "      <th>age</th>\n",
       "    </tr>\n",
       "  </thead>\n",
       "  <tbody>\n",
       "    <tr>\n",
       "      <th>0</th>\n",
       "      <td>홍길동</td>\n",
       "      <td>22</td>\n",
       "    </tr>\n",
       "    <tr>\n",
       "      <th>1</th>\n",
       "      <td>맹길동</td>\n",
       "      <td>33</td>\n",
       "    </tr>\n",
       "    <tr>\n",
       "      <th>2</th>\n",
       "      <td>김길동</td>\n",
       "      <td>44</td>\n",
       "    </tr>\n",
       "    <tr>\n",
       "      <th>3</th>\n",
       "      <td>맹길동</td>\n",
       "      <td>55</td>\n",
       "    </tr>\n",
       "  </tbody>\n",
       "</table>\n",
       "</div>"
      ],
      "text/plain": [
       "  name  age\n",
       "0  홍길동   22\n",
       "1  맹길동   33\n",
       "2  김길동   44\n",
       "3  맹길동   55"
      ]
     },
     "execution_count": 21,
     "metadata": {},
     "output_type": "execute_result"
    }
   ],
   "source": [
    "df[['name','age']]\n"
   ]
  },
  {
   "cell_type": "code",
   "execution_count": null,
   "metadata": {},
   "outputs": [],
   "source": []
  },
  {
   "cell_type": "markdown",
   "metadata": {},
   "source": [
    "## 데이타 필터링\n",
    "\n",
    "- 넘파이와 유사한 부분으로 더우 혼동하기 쉽다\n",
    "\n",
    "- 판다스의 DataFrame와 Series에서도 다른 부분이 있어서 주의해야 한다\n",
    "\n",
    "\n",
    "1. loc[] : 인덱스와 명칭으로 추출\n",
    "\n",
    "2. iloc[] : 인덱스로 추출\n",
    "\n",
    "3. ix[] : 명치 기반 인덱싱과 위치 기반 인덱싱 모두 사용 (*  그러나 곧 사라질 예정 )\n",
    "\n",
    "\n",
    "위 3 연산자는 노련한 개발자들도 혼동하기에,\n",
    "일반적으로 하나만 선택해서 사용하는 것을 권장한단다\n"
   ]
  },
  {
   "cell_type": "code",
   "execution_count": null,
   "metadata": {
    "scrolled": true
   },
   "outputs": [],
   "source": []
  },
  {
   "cell_type": "code",
   "execution_count": 22,
   "metadata": {},
   "outputs": [],
   "source": [
    "# 명칭기반 인덱스 : 인덱스를 지정한 경우\n",
    "\n"
   ]
  },
  {
   "cell_type": "code",
   "execution_count": 23,
   "metadata": {},
   "outputs": [],
   "source": [
    "# 특정 컬럼으로 인덱스를 지정\n"
   ]
  },
  {
   "cell_type": "markdown",
   "metadata": {},
   "source": [
    "### 정렬과 T"
   ]
  },
  {
   "cell_type": "code",
   "execution_count": 24,
   "metadata": {},
   "outputs": [],
   "source": [
    "# 나이를 오름차순으로\n",
    "# df.sort_index(ascending=False)   # 인덱스 정렬 기본값이 ascending=1\n",
    "\n",
    "#원본 안변함 False 해주면 높은순으로 나옴\n",
    "#df2라는 복사본은 변하지만 df원본은 안변함 ~\n",
    "# 전문가들은 원본이 변경하지 않는 것을 권장\n",
    "#df2 = df.sort_values('age', ascending=False)\n",
    "#df2\n",
    "\n",
    "\n",
    "\n",
    "\n",
    "\n",
    "\n",
    "# 이건 원본까지 변함 \n",
    "#df.sort_values('age', ascending=False, inplace=True)\n",
    "#df\n"
   ]
  },
  {
   "cell_type": "code",
   "execution_count": null,
   "metadata": {},
   "outputs": [],
   "source": []
  },
  {
   "cell_type": "markdown",
   "metadata": {},
   "source": [
    "### 정보확인"
   ]
  },
  {
   "cell_type": "code",
   "execution_count": 64,
   "metadata": {},
   "outputs": [
    {
     "name": "stdout",
     "output_type": "stream",
     "text": [
      "<class 'pandas.core.frame.DataFrame'>\n",
      "Int64Index: 4 entries, 0 to 3\n",
      "Data columns (total 5 columns):\n",
      " #   Column  Non-Null Count  Dtype \n",
      "---  ------  --------------  ----- \n",
      " 0   name    4 non-null      object\n",
      " 1   age     4 non-null      int64 \n",
      " 2   dept    4 non-null      object\n",
      " 3   gender  4 non-null      object\n",
      " 4   age+10  4 non-null      int64 \n",
      "dtypes: int64(2), object(3)\n",
      "memory usage: 364.0+ bytes\n"
     ]
    },
    {
     "data": {
      "text/html": [
       "<div>\n",
       "<style scoped>\n",
       "    .dataframe tbody tr th:only-of-type {\n",
       "        vertical-align: middle;\n",
       "    }\n",
       "\n",
       "    .dataframe tbody tr th {\n",
       "        vertical-align: top;\n",
       "    }\n",
       "\n",
       "    .dataframe thead th {\n",
       "        text-align: right;\n",
       "    }\n",
       "</style>\n",
       "<table border=\"1\" class=\"dataframe\">\n",
       "  <thead>\n",
       "    <tr style=\"text-align: right;\">\n",
       "      <th></th>\n",
       "      <th>age</th>\n",
       "      <th>age+10</th>\n",
       "    </tr>\n",
       "  </thead>\n",
       "  <tbody>\n",
       "    <tr>\n",
       "      <th>count</th>\n",
       "      <td>4.000000</td>\n",
       "      <td>4.000000</td>\n",
       "    </tr>\n",
       "    <tr>\n",
       "      <th>mean</th>\n",
       "      <td>38.500000</td>\n",
       "      <td>48.500000</td>\n",
       "    </tr>\n",
       "    <tr>\n",
       "      <th>std</th>\n",
       "      <td>14.200939</td>\n",
       "      <td>14.200939</td>\n",
       "    </tr>\n",
       "    <tr>\n",
       "      <th>min</th>\n",
       "      <td>22.000000</td>\n",
       "      <td>32.000000</td>\n",
       "    </tr>\n",
       "    <tr>\n",
       "      <th>25%</th>\n",
       "      <td>30.250000</td>\n",
       "      <td>40.250000</td>\n",
       "    </tr>\n",
       "    <tr>\n",
       "      <th>50%</th>\n",
       "      <td>38.500000</td>\n",
       "      <td>48.500000</td>\n",
       "    </tr>\n",
       "    <tr>\n",
       "      <th>75%</th>\n",
       "      <td>46.750000</td>\n",
       "      <td>56.750000</td>\n",
       "    </tr>\n",
       "    <tr>\n",
       "      <th>max</th>\n",
       "      <td>55.000000</td>\n",
       "      <td>65.000000</td>\n",
       "    </tr>\n",
       "  </tbody>\n",
       "</table>\n",
       "</div>"
      ],
      "text/plain": [
       "             age     age+10\n",
       "count   4.000000   4.000000\n",
       "mean   38.500000  48.500000\n",
       "std    14.200939  14.200939\n",
       "min    22.000000  32.000000\n",
       "25%    30.250000  40.250000\n",
       "50%    38.500000  48.500000\n",
       "75%    46.750000  56.750000\n",
       "max    55.000000  65.000000"
      ]
     },
     "execution_count": 64,
     "metadata": {},
     "output_type": "execute_result"
    }
   ],
   "source": [
    "# 총 데이터 건수와 데이타 타입등 정보 확인\n",
    "\n",
    "\n",
    "\n",
    "df.info()\n",
    "df.describe()\n"
   ]
  },
  {
   "cell_type": "code",
   "execution_count": 26,
   "metadata": {},
   "outputs": [],
   "source": [
    "# 기본통계량 구하기 ( 총개수, 평균, 표준편차, 최소값, 4분위수 등)\n"
   ]
  },
  {
   "cell_type": "code",
   "execution_count": null,
   "metadata": {},
   "outputs": [],
   "source": []
  }
 ],
 "metadata": {
  "kernelspec": {
   "display_name": "Python 3 (ipykernel)",
   "language": "python",
   "name": "python3"
  },
  "language_info": {
   "codemirror_mode": {
    "name": "ipython",
    "version": 3
   },
   "file_extension": ".py",
   "mimetype": "text/x-python",
   "name": "python",
   "nbconvert_exporter": "python",
   "pygments_lexer": "ipython3",
   "version": "3.9.13"
  }
 },
 "nbformat": 4,
 "nbformat_minor": 2
}
